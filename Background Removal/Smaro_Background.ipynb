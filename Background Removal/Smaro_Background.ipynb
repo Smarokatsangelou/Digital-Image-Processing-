{
 "cells": [
  {
   "cell_type": "code",
   "execution_count": null,
   "id": "3a5c92cc-5734-4e1b-bcba-470a40f34c09",
   "metadata": {},
   "outputs": [],
   "source": [
    "import os\n",
    "import cv2\n",
    "import matplotlib.pyplot as plt\n",
    "import numpy as np"
   ]
  },
  {
   "cell_type": "code",
   "execution_count": null,
   "id": "c3cb43d8-7e3b-49ff-9d5f-47c696b4ccaf",
   "metadata": {},
   "outputs": [],
   "source": [
    "image_directory= \"C:/Users/skatsangelou2023/Documents/ELL/facades1\"\n",
    "output = \"C:/Users/skatsangelou2023/Documents/ELL/facades_plt\""
   ]
  },
  {
   "cell_type": "code",
   "execution_count": null,
   "id": "e079d57e-8190-4a38-8d2a-8bda7693f379",
   "metadata": {},
   "outputs": [],
   "source": [
    "def remove_background_with_plot(image_path, save_path):\n",
    "    # Load the image\n",
    "    image = cv2.imread(image_path)\n",
    "    if image is None:\n",
    "        print(f\"Error loading image: {image_path}\")\n",
    "        return\n",
    "\n",
    "    # Convert to RGB \n",
    "    image_rgb = cv2.cvtColor(image, cv2.COLOR_BGR2RGB)\n",
    "\n",
    "    # Convert to grayscale\n",
    "    grayscale = cv2.cvtColor(image, cv2.COLOR_BGR2GRAY)\n",
    "\n",
    "    # Apply threshold to create a binary mask\n",
    "    _, mask = cv2.threshold(grayscale, 200, 255, cv2.THRESH_BINARY)\n",
    "\n",
    "    # Invert the mask to identify the foreground\n",
    "    inverted_mask = cv2.bitwise_not(mask)\n",
    "\n",
    "    # Create a 4-channel (RGBA) image for transparency\n",
    "    background_removed = cv2.merge((image[:, :, 0], image[:, :, 1], image[:, :, 2], inverted_mask))\n",
    "\n",
    "    # Save the processed image with transparency\n",
    "    saved = cv2.imwrite(save_path, background_removed)\n",
    "    if saved:\n",
    "        print(f\"Image saved successfully to: {save_path}\")\n",
    "    else:\n",
    "        print(f\"Failed to save image to: {save_path}\")\n",
    "\n",
    "    # Prepare for plotting\n",
    "    \n",
    "    # Convert background-removed image (RGBA needs normalization to 0-1)\n",
    "    background_removed_for_plot = background_removed.astype(np.float32) / 255.0\n",
    "\n",
    "    # Plot the steps\n",
    "    fig, axes = plt.subplots(1, 4, figsize=(20, 5))\n",
    "    axes[0].imshow(image_rgb)\n",
    "    axes[0].set_title(\"Original Image\")\n",
    "    axes[0].axis('off')\n",
    "\n",
    "    axes[1].imshow(grayscale, cmap='gray')\n",
    "    axes[1].set_title(\"Grayscale Image\")\n",
    "    axes[1].axis('off')\n",
    "\n",
    "    axes[2].imshow(mask, cmap='gray')\n",
    "    axes[2].set_title(\"Binary Mask\")\n",
    "    axes[2].axis('off')\n",
    "\n",
    "    axes[3].imshow(background_removed_for_plot)\n",
    "    axes[3].set_title(\"Transparent Background\")\n",
    "    axes[3].axis('off')\n",
    "\n",
    "    plt.tight_layout()\n",
    "    plt.show()\n",
    "\n",
    "\n",
    "os.makedirs(output, exist_ok=True)\n",
    "\n",
    "# Process and plot each image\n",
    "for filename in os.listdir(image_directory):\n",
    "    if filename.lower().endswith(('.png', '.jpg', '.jpeg', '.bmp', '.tiff')):\n",
    "        input_path = os.path.join(image_directory, filename)\n",
    "        output_path = os.path.join(output, filename)\n",
    "\n",
    "        # Ensure output file has .png extension for transparency\n",
    "        if not output_path.lower().endswith('.png'):\n",
    "            output_path = os.path.splitext(output_path)[0] + '.png'\n",
    "\n",
    "        print(f\"Processing file: {input_path}\")\n",
    "        remove_background_with_plot(input_path, output_path)\n",
    "\n",
    "print(f\"All images processed. Check the output folder: {output}\")\n"
   ]
  },
  {
   "cell_type": "code",
   "execution_count": null,
   "id": "fb29465f-dc1b-463a-896c-1541e54c2d27",
   "metadata": {},
   "outputs": [],
   "source": []
  }
 ],
 "metadata": {
  "kernelspec": {
   "display_name": "Python 3 (ipykernel)",
   "language": "python",
   "name": "python3"
  },
  "language_info": {
   "codemirror_mode": {
    "name": "ipython",
    "version": 3
   },
   "file_extension": ".py",
   "mimetype": "text/x-python",
   "name": "python",
   "nbconvert_exporter": "python",
   "pygments_lexer": "ipython3",
   "version": "3.11.7"
  }
 },
 "nbformat": 4,
 "nbformat_minor": 5
}
